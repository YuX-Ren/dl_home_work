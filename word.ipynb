{
 "cells": [
  {
   "cell_type": "code",
   "execution_count": 4,
   "metadata": {},
   "outputs": [],
   "source": [
    "import argparse\n",
    "import torch\n",
    "\n",
    "import data\n",
    "# Set the random seed manually for reproducibility.\n",
    "torch.manual_seed(42)\n",
    "device = torch.device(\"cuda\")\n",
    "\n",
    "with open('./model.pt', 'rb') as f:\n",
    "    model = torch.load(f, map_location=device)\n",
    "model.eval()\n",
    "corpus = data.Corpus('.')\n",
    "ntokens = len(corpus.dictionary)\n",
    "\n",
    "is_transformer_model = hasattr(model, 'model_type') and model.model_type == 'Transformer'\n",
    "if not is_transformer_model:\n",
    "    hidden = model.init_hidden(1)\n"
   ]
  },
  {
   "cell_type": "code",
   "execution_count": 14,
   "metadata": {},
   "outputs": [],
   "source": [
    "eosid = corpus.dictionary.word2idx['<eos>']\n",
    "def word(input):\n",
    "    with torch.no_grad():  # no tracking history\n",
    "        for i in range(200):\n",
    "            if is_transformer_model:\n",
    "                output = model(input, False)\n",
    "                word_weights = output[-1].squeeze().div(1.0).exp().cpu()\n",
    "                word_idx = torch.multinomial(word_weights, 1)[0]\n",
    "                if word_idx == eosid:\n",
    "                    break\n",
    "                word_tensor = torch.Tensor([[word_idx]]).long().to(device)\n",
    "                input = torch.cat([input, word_tensor], 0)\n",
    "            word = corpus.dictionary.idx2word[word_idx]\n",
    "            print(word, end=' ')"
   ]
  },
  {
   "cell_type": "code",
   "execution_count": 17,
   "metadata": {},
   "outputs": [
    {
     "name": "stdout",
     "output_type": "stream",
     "text": [
      "tensor([[135],\n",
      "        [ 26],\n",
      "        [ 17]], device='cuda:0')\n",
      "age of The eight transitions of the excavated to 600 % of the musical superiors . "
     ]
    }
   ],
   "source": [
    "words = \"It is the\"\n",
    "print(words,end=' ')\n",
    "words = \"It is the\".split()\n",
    "input = [0]*len(words)\n",
    "for i in range(len(words)):\n",
    "    input[i] = corpus.dictionary.word2idx[words[i]]\n",
    "input = torch.Tensor(input).to(device).to(dtype=int).unsqueeze(1)\n",
    "word(input)\n"
   ]
  }
 ],
 "metadata": {
  "kernelspec": {
   "display_name": "Python 3.7.13 ('ml37')",
   "language": "python",
   "name": "python3"
  },
  "language_info": {
   "codemirror_mode": {
    "name": "ipython",
    "version": 3
   },
   "file_extension": ".py",
   "mimetype": "text/x-python",
   "name": "python",
   "nbconvert_exporter": "python",
   "pygments_lexer": "ipython3",
   "version": "3.7.13"
  },
  "orig_nbformat": 4,
  "vscode": {
   "interpreter": {
    "hash": "bfb7d75b757e0f989e9939efc324f5b7fe1c6c76a2ecf62838d88b5b1eb065a2"
   }
  }
 },
 "nbformat": 4,
 "nbformat_minor": 2
}
