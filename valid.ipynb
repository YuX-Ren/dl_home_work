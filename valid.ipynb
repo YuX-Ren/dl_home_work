{
 "cells": [
  {
   "cell_type": "code",
   "execution_count": 1,
   "metadata": {},
   "outputs": [],
   "source": [
    "import os\n",
    "import random\n",
    "import time\n",
    "import warnings\n",
    "from enum import Enum\n",
    "\n",
    "from PIL import Image\n",
    "\n",
    "import torch.distributed as dist\n",
    "import torch.multiprocessing as mp\n",
    "import torch.nn as nn\n",
    "import torch.nn.parallel\n",
    "import torch.utils.data\n",
    "import torch.utils.data.distributed\n",
    "import torchvision.datasets as datasets\n",
    "import torchvision.models as models\n",
    "import torchvision.transforms as transforms\n",
    "from torch.utils.data import Subset"
   ]
  },
  {
   "cell_type": "code",
   "execution_count": 2,
   "metadata": {},
   "outputs": [],
   "source": [
    "## Datasets\n",
    "\n",
    "class TinyImageNetDataset(torch.utils.data.Dataset):\n",
    "    def __init__(self, main_dir, class_to_id, transform=None):\n",
    "        self.main_dir = main_dir\n",
    "        self.transform = transform\n",
    "        self.imgs_dir = os.path.join(main_dir, \"images\")\n",
    "        self.all_imgs = os.listdir(self.imgs_dir)\n",
    "        self.class_to_id = class_to_id\n",
    "\n",
    "        self.annotations = {}\n",
    "        with open(os.path.join(main_dir, \"val_annotations.txt\"), \"r\") as file:\n",
    "            for line in file:\n",
    "                items = line.split(\"\\t\")\n",
    "                self.annotations[items[0]] = items[1]\n",
    "\n",
    "    def __len__(self):\n",
    "        return len(self.all_imgs)\n",
    "\n",
    "    def __getitem__(self, idx):\n",
    "        img_loc = os.path.join(self.imgs_dir, self.all_imgs[idx])\n",
    "        image = Image.open(img_loc).convert(\"RGB\")\n",
    "        label = self.class_to_id[self.annotations[self.all_imgs[idx]]]  # Use the class to ID mapping\n",
    "\n",
    "        if self.transform is not None:\n",
    "            image = self.transform(image)\n",
    "\n",
    "        return image, label"
   ]
  },
  {
   "cell_type": "code",
   "execution_count": 37,
   "metadata": {},
   "outputs": [
    {
     "data": {
      "text/plain": [
       "<All keys matched successfully>"
      ]
     },
     "execution_count": 37,
     "metadata": {},
     "output_type": "execute_result"
    }
   ],
   "source": [
    "device = torch.device(\"cuda\" if torch.cuda.is_available() else \"cpu\")\n",
    "model = models.__dict__[\"resnet18\"](num_classes=200).to(device)\n",
    "model_8workers = models.__dict__[\"resnet18\"](num_classes=200).to(device)\n",
    "\n",
    "model = torch.nn.DataParallel(model).cuda()\n",
    "model_8workers = torch.nn.DataParallel(model_8workers).cuda()\n",
    "\n",
    "checkpoint = torch.load(\".\\checkpoint.pth.tar\")\n",
    "model.load_state_dict(checkpoint[\"state_dict\"])\n",
    "\n",
    "checkpoint = torch.load(\".\\checkpoint_8workers.pth.tar\")\n",
    "model_8workers.load_state_dict(checkpoint['state_dict'])\n"
   ]
  },
  {
   "cell_type": "code",
   "execution_count": 12,
   "metadata": {},
   "outputs": [],
   "source": [
    "valdir = os.path.join(\"/Tiny-ImageNet/tiny-imagenet-200\", 'val')\n",
    "traindir = os.path.join(\"/Tiny-ImageNet/tiny-imagenet-200\", 'train')\n",
    "normalize = transforms.Normalize(mean=[0.485, 0.456, 0.406],\n",
    "                                     std=[0.229, 0.224, 0.225])\n",
    "train_dataset = datasets.ImageFolder(\n",
    "            traindir,\n",
    "            transforms.Compose([\n",
    "                transforms.RandomHorizontalFlip(),\n",
    "                transforms.ToTensor(),\n",
    "                normalize,\n",
    "            ]))\n",
    "\n",
    "val_dataset = TinyImageNetDataset(\n",
    "            valdir,\n",
    "            train_dataset.class_to_idx,\n",
    "            transforms.Compose([\n",
    "                transforms.ToTensor(),\n",
    "                normalize,\n",
    "            ]))\n",
    "val_loader = torch.utils.data.DataLoader(\n",
    "        val_dataset, batch_size=256, shuffle=False,\n",
    "        num_workers=0, pin_memory=True)"
   ]
  },
  {
   "cell_type": "code",
   "execution_count": 10,
   "metadata": {},
   "outputs": [],
   "source": [
    "class Summary(Enum):\n",
    "    NONE = 0\n",
    "    AVERAGE = 1\n",
    "    SUM = 2\n",
    "    COUNT = 3\n",
    "\n",
    "class AverageMeter(object):\n",
    "    \"\"\"Computes and stores the average and current value\"\"\"\n",
    "    def __init__(self, name, fmt=':f', summary_type=Summary.AVERAGE):\n",
    "        self.name = name\n",
    "        self.fmt = fmt\n",
    "        self.summary_type = summary_type\n",
    "        self.reset()\n",
    "\n",
    "    def reset(self):\n",
    "        self.val = 0\n",
    "        self.avg = 0\n",
    "        self.sum = 0\n",
    "        self.count = 0\n",
    "\n",
    "    def update(self, val, n=1):\n",
    "        self.val = val\n",
    "        self.sum += val * n\n",
    "        self.count += n\n",
    "        self.avg = self.sum / self.count\n",
    "\n",
    "    def __str__(self):\n",
    "        fmtstr = '{name} {val' + self.fmt + '} ({avg' + self.fmt + '})'\n",
    "        return fmtstr.format(**self.__dict__)\n",
    "    \n",
    "    def summary(self):\n",
    "        fmtstr = ''\n",
    "        if self.summary_type is Summary.NONE:\n",
    "            fmtstr = ''\n",
    "        elif self.summary_type is Summary.AVERAGE:\n",
    "            fmtstr = '{name} {avg:.3f}'\n",
    "        elif self.summary_type is Summary.SUM:\n",
    "            fmtstr = '{name} {sum:.3f}'\n",
    "        elif self.summary_type is Summary.COUNT:\n",
    "            fmtstr = '{name} {count:.3f}'\n",
    "        else:\n",
    "            raise ValueError('invalid summary type %r' % self.summary_type)\n",
    "        \n",
    "        return fmtstr.format(**self.__dict__)\n",
    "\n",
    "\n",
    "class ProgressMeter(object):\n",
    "    def __init__(self, num_batches, meters, prefix=\"\"):\n",
    "        self.batch_fmtstr = self._get_batch_fmtstr(num_batches)\n",
    "        self.meters = meters\n",
    "        self.prefix = prefix\n",
    "\n",
    "    def display(self, batch):\n",
    "        entries = [self.prefix + self.batch_fmtstr.format(batch)]\n",
    "        entries += [str(meter) for meter in self.meters]\n",
    "        print('\\t'.join(entries))\n",
    "        \n",
    "    def display_summary(self):\n",
    "        entries = [\" *\"]\n",
    "        entries += [meter.summary() for meter in self.meters]\n",
    "        print(' '.join(entries))\n",
    "\n",
    "    def _get_batch_fmtstr(self, num_batches):\n",
    "        num_digits = len(str(num_batches // 1))\n",
    "        fmt = '{:' + str(num_digits) + 'd}'\n",
    "        return '[' + fmt + '/' + fmt.format(num_batches) + ']'\n",
    "\n",
    "def accuracy(output, target, topk=(1,)):\n",
    "    \"\"\"Computes the accuracy over the k top predictions for the specified values of k\"\"\"\n",
    "    with torch.no_grad():\n",
    "        maxk = max(topk)\n",
    "        batch_size = target.size(0)\n",
    "\n",
    "        _, pred = output.topk(maxk, 1, True, True)\n",
    "        pred = pred.t()\n",
    "        correct = pred.eq(target.view(1, -1).expand_as(pred))\n",
    "\n",
    "        res = []\n",
    "        for k in topk:\n",
    "            correct_k = correct[:k].reshape(-1).float().sum(0, keepdim=True)\n",
    "            res.append(correct_k.mul_(100.0 / batch_size))\n",
    "        return res"
   ]
  },
  {
   "cell_type": "code",
   "execution_count": 13,
   "metadata": {},
   "outputs": [
    {
     "name": "stdout",
     "output_type": "stream",
     "text": [
      "Test: [ 1/40]\tTime  9.346 ( 9.346)\tLoss 4.0434e+00 (4.0434e+00)\tAcc@1  35.16 ( 35.16)\tAcc@5  55.86 ( 55.86)\n",
      "Test: [11/40]\tTime  2.916 ( 3.597)\tLoss 3.6609e+00 (3.8840e+00)\tAcc@1  37.11 ( 35.40)\tAcc@5  64.06 ( 61.93)\n",
      "Test: [21/40]\tTime  2.875 ( 3.267)\tLoss 3.9802e+00 (3.9566e+00)\tAcc@1  32.03 ( 34.86)\tAcc@5  59.38 ( 60.88)\n",
      "Test: [31/40]\tTime  2.966 ( 3.174)\tLoss 4.3979e+00 (4.0054e+00)\tAcc@1  34.77 ( 34.46)\tAcc@5  55.86 ( 60.26)\n",
      " *   Acc@1 34.310 Acc@5 60.200\n"
     ]
    },
    {
     "data": {
      "text/plain": [
       "tensor(34.3100, device='cuda:0')"
      ]
     },
     "execution_count": 13,
     "metadata": {},
     "output_type": "execute_result"
    }
   ],
   "source": [
    "def validate(val_loader, model, criterion, epoch=0):\n",
    "\n",
    "    def run_validate(loader, epoch, base_progress=0):\n",
    "        with torch.no_grad():\n",
    "            end = time.time()\n",
    "            for i, (images, target) in enumerate(loader):\n",
    "                i = base_progress + i\n",
    "                images = images.to(device)\n",
    "                target = target.to(device)\n",
    "\n",
    "                # compute output\n",
    "                output = model(images)\n",
    "                loss = criterion(output, target)\n",
    "\n",
    "                # measure accuracy and record loss\n",
    "                acc1, acc5 = accuracy(output, target, topk=(1, 5))\n",
    "                losses.update(loss.item(), images.size(0))\n",
    "                top1.update(acc1[0], images.size(0))\n",
    "                top5.update(acc5[0], images.size(0))\n",
    "\n",
    "                # measure elapsed time\n",
    "                batch_time.update(time.time() - end)\n",
    "                end = time.time()\n",
    "                if i % 10 == 0:\n",
    "                    progress.display(i + 1)\n",
    "\n",
    "    batch_time = AverageMeter('Time', ':6.3f', Summary.NONE)\n",
    "    losses = AverageMeter('Loss', ':.4e', Summary.NONE)\n",
    "    top1 = AverageMeter('Acc@1', ':6.2f', Summary.AVERAGE)\n",
    "    top5 = AverageMeter('Acc@5', ':6.2f', Summary.AVERAGE)\n",
    "    progress = ProgressMeter(\n",
    "        len(val_loader) ,\n",
    "        [batch_time, losses, top1, top5],\n",
    "        prefix='Test: ')\n",
    "\n",
    "    # switch to evaluate mode\n",
    "    model.eval()\n",
    "\n",
    "    run_validate(val_loader, epoch=epoch)\n",
    "\n",
    "    progress.display_summary()\n",
    "\n",
    "    return top1.avg\n",
    "criterion = nn.CrossEntropyLoss().to(device)\n",
    "validate(val_loader, model, criterion)"
   ]
  },
  {
   "cell_type": "code",
   "execution_count": 34,
   "metadata": {},
   "outputs": [
    {
     "name": "stdout",
     "output_type": "stream",
     "text": [
      "n03444034 n03444034\n"
     ]
    }
   ],
   "source": [
    "model.eval()\n",
    "with torch.no_grad():\n",
    "    example_images, target = next(iter(val_loader))\n",
    "    images = example_images[0].unsqueeze(0)\n",
    "    target = target[0]\n",
    "    # compute output\n",
    "    output = model(images)\n",
    "    # measure accuracy and record loss\n",
    "    _, pred = output.topk(1, 1, True, True)\n",
    "reverse_dict = {value: key for key, value in train_dataset.class_to_idx.items()}\n",
    "print(reverse_dict[pred.item()],reverse_dict[target.item()])"
   ]
  },
  {
   "cell_type": "code",
   "execution_count": 17,
   "metadata": {},
   "outputs": [],
   "source": [
    "import matplotlib.pyplot as plt\n",
    "import numpy as np "
   ]
  },
  {
   "cell_type": "code",
   "execution_count": 68,
   "metadata": {},
   "outputs": [
    {
     "name": "stdout",
     "output_type": "stream",
     "text": [
      "model 1 result:n09256479 target:n02206856 result: False\n",
      "model 8workers result:n02206856 target:n02206856 result: True\n"
     ]
    },
    {
     "data": {
      "image/png": "[encoded data removed]",
      "text/plain": [
       "<Figure size 432x288 with 1 Axes>"
      ]
     },
     "metadata": {
      "needs_background": "light"
     },
     "output_type": "display_data"
    }
   ],
   "source": [
    "for i in range(random.randint(1, 10)):\n",
    "    example_images, _ = next(iter(val_loader))\n",
    "model.eval()\n",
    "model_8workers.eval()\n",
    "i = random.randint(0, 255)\n",
    "with torch.no_grad():\n",
    "    example_images, target = next(iter(val_loader))\n",
    "    images = example_images[i].unsqueeze(0)\n",
    "    target = target[i]\n",
    "    # compute output\n",
    "    output = model(images)\n",
    "    output_8workers = model_8workers(images)\n",
    "    # measure accuracy and record loss\n",
    "    _, pred = output.topk(1, 1, True, True)\n",
    "    _, pred_8workers = output_8workers.topk(1, 1, True,True)\n",
    "reverse_dict = {value: key for key, value in train_dataset.class_to_idx.items()}\n",
    "print(\"model 1 result:\"+reverse_dict[pred.item()]+\" target:\"+reverse_dict[target.item()]+\" result: \"+str(pred.item()==target.item()))\n",
    "print(\"model 8workers result:\"+reverse_dict[pred_8workers.item()]+\" target:\"+reverse_dict[target.item()]+\" result: \"+str(pred_8workers.item()==target.item()))\n",
    "_, pred = output.topk(1, 1, True, True)\n",
    "example_images = example_images[i]\n",
    "\n",
    "# PyTorch uses (C, H, W) format for images, but matplotlib uses (H, W, C)\n",
    "# So, we transpose the dimensions using np.transpose()\n",
    "mean = np.array([0.485, 0.456, 0.406])\n",
    "std = np.array([0.229, 0.224, 0.225])\n",
    "\n",
    "# Unnormalize\n",
    "img_tensor_unnorm = example_images.clone()  # Create a copy of the tensor\n",
    "for i in range(3):  # For each channel\n",
    "    img_tensor_unnorm[i] = example_images[i] * std[i] + mean[i]\n",
    "\n",
    "# Convert tensor to numpy array\n",
    "img_array = img_tensor_unnorm.numpy()\n",
    "\n",
    "# Transpose the dimensions\n",
    "img_array = np.transpose(img_array, (1, 2, 0))\n",
    "# Show the image\n",
    "plt.imshow(img_array)\n",
    "\n",
    "# Optionally, remove the axes for a better visualization\n",
    "plt.axis('off')\n",
    "\n",
    "# Display the plot\n",
    "plt.show()"
   ]
  }
 ],
 "metadata": {
  "kernelspec": {
   "display_name": "Python 3.7.13 ('ml37')",
   "language": "python",
   "name": "python3"
  },
  "language_info": {
   "codemirror_mode": {
    "name": "ipython",
    "version": 3
   },
   "file_extension": ".py",
   "mimetype": "text/x-python",
   "name": "python",
   "nbconvert_exporter": "python",
   "pygments_lexer": "ipython3",
   "version": "3.7.13"
  },
  "orig_nbformat": 4,
  "vscode": {
   "interpreter": {
    "hash": "bfb7d75b757e0f989e9939efc324f5b7fe1c6c76a2ecf62838d88b5b1eb065a2"
   }
  }
 },
 "nbformat": 4,
 "nbformat_minor": 2
}
